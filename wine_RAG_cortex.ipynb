{
 "cells": [
  {
   "cell_type": "code",
   "execution_count": 85,
   "metadata": {},
   "outputs": [],
   "source": [
    "import pandas as pd\n",
    "import numpy as np\n",
    "\n",
    "import os\n",
    "import sys\n",
    "import json\n",
    "import toml\n",
    "\n",
    "import snowflake\n",
    "from snowflake.snowpark import Session\n",
    "from snowflake.core import Root\n",
    "from snowflake.cortex import Complete\n",
    "\n",
    "from trulens.apps.custom import instrument, TruCustomApp\n",
    "from trulens.core.instruments import WithInstrumentCallbacks"
   ]
  },
  {
   "cell_type": "code",
   "execution_count": 2,
   "metadata": {},
   "outputs": [],
   "source": [
    "df = pd.read_csv('wine_reviews.csv')"
   ]
  },
  {
   "cell_type": "code",
   "execution_count": 4,
   "metadata": {},
   "outputs": [
    {
     "data": {
      "text/plain": [
       "count    81115.000000\n",
       "mean       247.411502\n",
       "std         68.857579\n",
       "min         53.000000\n",
       "25%        200.000000\n",
       "50%        239.000000\n",
       "75%        284.000000\n",
       "max        754.000000\n",
       "Name: description, dtype: float64"
      ]
     },
     "execution_count": 4,
     "metadata": {},
     "output_type": "execute_result"
    }
   ],
   "source": [
    "df.description.apply(lambda x: len(x)).describe()\n"
   ]
  },
  {
   "cell_type": "code",
   "execution_count": 10,
   "metadata": {},
   "outputs": [],
   "source": [
    "\n",
    "try:\n",
    "    session = get_active_session()\n",
    "    print(\"using get_active_session\")\n",
    "except:\n",
    "    config = toml.load('/Users/ebotwick/library/Application Support/snowflake/config.toml').get('connections').get('ebotwick_default')\n",
    "    session = Session.builder.configs(config).create()\n",
    "    print(\"connected to snowflake!\")"
   ]
  },
  {
   "cell_type": "code",
   "execution_count": 13,
   "metadata": {},
   "outputs": [],
   "source": [
    "session.use_database(\"WINE_REVIEW_LLM\")\n",
    "session.use_schema(\"DATA\")"
   ]
  },
  {
   "cell_type": "code",
   "execution_count": 24,
   "metadata": {},
   "outputs": [
    {
     "data": {
      "text/plain": [
       "<snowflake.snowpark.table.Table at 0x123b30dd0>"
      ]
     },
     "execution_count": 24,
     "metadata": {},
     "output_type": "execute_result"
    }
   ],
   "source": [
    "session.write_pandas(df, \n",
    "                     table_name=\"WINE_REVIEWS_RAW\",\n",
    "                     auto_create_table=True, \n",
    "                     quote_identifiers=False,\n",
    "                     overwrite=True)"
   ]
  },
  {
   "cell_type": "code",
   "execution_count": 25,
   "metadata": {},
   "outputs": [
    {
     "name": "stdout",
     "output_type": "stream",
     "text": [
      "[StructField('COUNTRY', StringType(16777216), nullable=True), StructField('DESCRIPTION', StringType(16777216), nullable=True), StructField('DESIGNATION', StringType(16777216), nullable=True), StructField('POINTS', LongType(), nullable=True), StructField('PRICE', DoubleType(), nullable=True), StructField('PROVINCE', StringType(16777216), nullable=True), StructField('REGION_1', StringType(16777216), nullable=True), StructField('REGION_2', StringType(16777216), nullable=True), StructField('TASTER_NAME', StringType(16777216), nullable=True), StructField('TASTER_PHOTO', StringType(16777216), nullable=True), StructField('TASTER_TWITTER_HANDLE', StringType(16777216), nullable=True), StructField('TITLE', StringType(16777216), nullable=True), StructField('VARIETY', StringType(16777216), nullable=True), StructField('VINTAGE', StringType(16777216), nullable=True), StructField('WINERY', StringType(16777216), nullable=True)]\n"
     ]
    }
   ],
   "source": [
    "dfsp = session.table(\"WINE_REVIEWS_RAW\")\n",
    "print(list(dfsp.schema))"
   ]
  },
  {
   "cell_type": "code",
   "execution_count": 35,
   "metadata": {},
   "outputs": [
    {
     "name": "stdout",
     "output_type": "stream",
     "text": [
      "--------------------------------------------------------------------------------------------------------------------------------------------------------------------------------------------------------------------------------------------------------------------------------------------------------------------------------------------------------------------------------------\n",
      "|\"COUNTRY\"  |\"DESCRIPTION\"                                       |\"DESIGNATION\"           |\"POINTS\"  |\"PRICE\"  |\"PROVINCE\"                |\"REGION_1\"   |\"REGION_2\"     |\"TASTER_NAME\"      |\"TASTER_PHOTO\"                                      |\"TASTER_TWITTER_HANDLE\"  |\"TITLE\"                                             |\"VARIETY\"           |\"VINTAGE\"  |\"WINERY\"           |\n",
      "--------------------------------------------------------------------------------------------------------------------------------------------------------------------------------------------------------------------------------------------------------------------------------------------------------------------------------------------------------------------------------------\n",
      "|Portugal   |This is a deliciously creamy wine with light wh...  |Assobio Branco          |87        |14.0     |Douro                     |NULL         |NULL           |Roger Voss         |https://253qv1sx4ey389p9wtpp9sj0-wpengine.netdn...  |@vossroger               |Quinta dos Murças 2016 Assobio Branco White (Do...  |Portuguese White    |2016       |Quinta dos Murças  |\n",
      "|US         |Black plum juice, black pepper, caramel and smo...  |NULL                    |87        |25.0     |California                |Paso Robles  |Central Coast  |Matt Kettmann      |https://253qv1sx4ey389p9wtpp9sj0-wpengine.netdn...  |@mattkettmann            |Western Slope 2014 Cabernet Sauvignon (Paso Rob...  |Cabernet Sauvignon  |2014       |Western Slope      |\n",
      "|Georgia    |Aromas of green apple and white flowers prepare...  |NULL                    |87        |14.0     |Lechkhumi                 |NULL         |NULL           |Mike DeSimone      |https://253qv1sx4ey389p9wtpp9sj0-wpengine.netdn...  |@worldwineguys           |Teliani Valley 2015 Tsolikouri (Lechkhumi)          |Tsolikouri          |2015       |Teliani Valley     |\n",
      "|Kosovo     |This wine has aromas of black berry, dried red ...  |NULL                    |87        |13.0     |Rahoveci Valley           |NULL         |NULL           |Jeff Jenssen       |https://253qv1sx4ey389p9wtpp9sj0-wpengine.netdn...  |@worldwineguys           |Stone Castle 2013 Shiraz (Rahoveci Valley)          |Shiraz              |2013       |Stone Castle       |\n",
      "|Italy      |A blend of organically cultivated Groppello, Ma...  |San'Emiliano Chiaretto  |87        |13.0     |Lombardy                  |Valtènesi    |NULL           |Kerin O’Keefe      |https://253qv1sx4ey389p9wtpp9sj0-wpengine.netdn...  |@kerinokeefe             |Pratello 2016 San'Emiliano Chiaretto Rosato (Va...  |Rosato              |2016       |Pratello           |\n",
      "|Portugal   |The wine, a blend of Antão Vaz, Arinto and Siri...  |Pato Frio Selecção      |87        |10.0     |Alentejano                |NULL         |NULL           |Roger Voss         |https://253qv1sx4ey389p9wtpp9sj0-wpengine.netdn...  |@vossroger               |Ribafreixo 2016 Pato Frio Selecção White (Alent...  |Portuguese White    |2016       |Ribafreixo         |\n",
      "|US         |Big, bold and oaky, this wine smells like butte...  |NULL                    |87        |18.0     |California                |North Coast  |North Coast    |Jim Gordon         |https://253qv1sx4ey389p9wtpp9sj0-wpengine.netdn...  |@gordone_cellars         |Tierra y Mar 2013 Chardonnay (North Coast)          |Chardonnay          |2013       |Tierra y Mar       |\n",
      "|Chile      |Balanced aromas of green herbs and citrus zest ...  |Aliwen Reserva          |87        |12.0     |San Antonio-Maipo Valley  |NULL         |NULL           |Michael Schachner  |https://253qv1sx4ey389p9wtpp9sj0-wpengine.netdn...  |@wineschach              |Undurraga 2016 Aliwen Reserva Sauvignon Blanc (...  |Sauvignon Blanc     |2016       |Undurraga          |\n",
      "|Italy      |This opens with subtle aromas of wild flower an...  |Vigne di Sande          |87        |NULL     |Veneto                    |Soave        |NULL           |Kerin O’Keefe      |https://253qv1sx4ey389p9wtpp9sj0-wpengine.netdn...  |@kerinokeefe             |Villa Canestrari 2016 Vigne di Sande  (Soave)       |Garganega           |2016       |Villa Canestrari   |\n",
      "|Turkey     |This wine made from an aromatic indigenous Turk...  |NULL                    |87        |18.0     |Ankara                    |NULL         |NULL           |Mike DeSimone      |https://253qv1sx4ey389p9wtpp9sj0-wpengine.netdn...  |@worldwineguys           |Vinkara 2015 Narince (Ankara)                       |Narince             |2015       |Vinkara            |\n",
      "--------------------------------------------------------------------------------------------------------------------------------------------------------------------------------------------------------------------------------------------------------------------------------------------------------------------------------------------------------------------------------------\n",
      "\n"
     ]
    }
   ],
   "source": [
    "dfsp.show(10)"
   ]
  },
  {
   "cell_type": "code",
   "execution_count": 40,
   "metadata": {},
   "outputs": [
    {
     "data": {
      "text/plain": [
       "[Row(created_on=datetime.datetime(2024, 12, 28, 19, 30, 47, 343000, tzinfo=<DstTzInfo 'America/Los_Angeles' PST-1 day, 16:00:00 STD>), name='WINE_REVIEWS_RAW', database_name='WINE_REVIEW_LLM', schema_name='DATA', kind='TABLE', comment='', cluster_by='', rows=81115, bytes=9870848, owner='ACCOUNTADMIN', retention_time='1', automatic_clustering='OFF', change_tracking='OFF', search_optimization='OFF', search_optimization_progress=None, search_optimization_bytes=None, is_external='N', enable_schema_evolution='N', owner_role_type='ROLE', is_event='N', budget=None, is_hybrid='N', is_iceberg='N', is_dynamic='N', is_immutable='N')]"
      ]
     },
     "execution_count": 40,
     "metadata": {},
     "output_type": "execute_result"
    }
   ],
   "source": [
    "session.sql(\"SHOW TABLES\").collect()"
   ]
  },
  {
   "cell_type": "code",
   "execution_count": 41,
   "metadata": {},
   "outputs": [
    {
     "data": {
      "text/plain": [
       "[Row(status='Cortex search service WINE_REVIEW_RETRIEVER successfully created.')]"
      ]
     },
     "execution_count": 41,
     "metadata": {},
     "output_type": "execute_result"
    }
   ],
   "source": [
    "create_css_sql = '''\n",
    "CREATE OR REPLACE CORTEX SEARCH SERVICE WINE_REVIEW_RETRIEVER \n",
    "ON DESCRIPTION\n",
    "ATTRIBUTES PRICE, POINTS, COUNTRY, VARIETY, VINTAGE\n",
    "warehouse = DEFAULT_XS\n",
    "TARGET_LAG = '1 day'\n",
    "as (\n",
    "    select DESCRIPTION, \n",
    "    PRICE, \n",
    "    POINTS, \n",
    "    COUNTRY, \n",
    "    VARIETY, \n",
    "    VINTAGE\n",
    "    from WINE_REVIEWS_RAW\n",
    ");\n",
    "\n",
    "'''\n",
    "\n",
    "session.sql(create_css_sql).collect()"
   ]
  },
  {
   "cell_type": "code",
   "execution_count": 51,
   "metadata": {},
   "outputs": [
    {
     "data": {
      "text/plain": [
       "[Row(PARSE_JSON(SNOWFLAKE.CORTEX.SEARCH_PREVIEW(\n",
       "     'WINE_REVIEW_RETRIEVER', \n",
       "     '{\n",
       "       \"QUERY\": \"WHATS A GOOD MERLOT FROM CALIFORNIA\"\n",
       "     }'\n",
       " ))='{\\n  \"request_id\": \"0706fa97-fca7-4fd3-a610-4f25cc6cbf4b\",\\n  \"results\": [\\n    {\\n      \"@DEBUG_PER_RESULT\": \"{\\\\\"TopicalityScore\\\\\":0.014335629,\\\\\"L2DScore\\\\\":1.3960292,\\\\\"Q2DScore\\\\\":-2.379537,\\\\\"Q2DScoreNorm\\\\\":1,\\\\\"L2DScoreNorm\\\\\":0.9362315,\\\\\"FinalScore\\\\\":0.59762114}\",\\n      \"DESCRIPTION\": \"Though not treating the grape with quite the same reverence as other varieties, Central Coast vintners are having fun with Merlot, making quaffable, easygoing bottlings like this one. It shows caramelized blueberry, black currant and asphalt touches on the nose. The graphite minerality also pops on the palate, giving a tension to the cassis flavors. \"\\n    },\\n    {\\n      \"@DEBUG_PER_RESULT\": \"{\\\\\"TopicalityScore\\\\\":0.023584815,\\\\\"L2DScore\\\\\":1.3507818,\\\\\"Q2DScore\\\\\":-4.3525505,\\\\\"Q2DScoreNorm\\\\\":0.70625263,\\\\\"L2DScoreNorm\\\\\":0.5652181,\\\\\"TopicalityScoreNorm\\\\\":0.09085765,\\\\\"FinalScore\\\\\":0.39772895}\",\\n      \"DESCRIPTION\": \"From what\\'s consistently the most impressive producer using Los Angeles County fruit, this blend of 65% Tempranillo, 25% Petite Sirah and 10% Merlot is dense on the nose with black-currant and strong oak aromas. The palate is framed with dense, firm tannins, which deliver cassis, espresso, vanilla and caramel flavors. \"\\n    },\\n    {\\n      \"@DEBUG_PER_RESULT\": \"{\\\\\"TopicalityScore\\\\\":0.02934745,\\\\\"L2DScore\\\\\":1.382243,\\\\\"Q2DScore\\\\\":-5.752072,\\\\\"Q2DScoreNorm\\\\\":0.4978883,\\\\\"L2DScoreNorm\\\\\":0.82318944,\\\\\"TopicalityScoreNorm\\\\\":0.14746581,\\\\\"FinalScore\\\\\":0.3892319}\",\\n      \"DESCRIPTION\": \"This is a light simple red, without particular varietal character. It\\'s much like an inexpensive California Merlot—fine for every day drinking, generic and unassuming. \"\\n    },\\n    {\\n      \"@DEBUG_PER_RESULT\": \"{\\\\\"TopicalityScore\\\\\":0.043031614,\\\\\"L2DScore\\\\\":1.4038062,\\\\\"Q2DScore\\\\\":-7.859747,\\\\\"Q2DScoreNorm\\\\\":0.18409216,\\\\\"L2DScoreNorm\\\\\":1,\\\\\"TopicalityScoreNorm\\\\\":0.28188965,\\\\\"FinalScore\\\\\":0.32239887}\",\\n      \"DESCRIPTION\": \"Merlot may be a much maligned variety in the States, but particularly at this price point, it offers a drinkability that\\'s hard. Yalumba\\'s version has plenty of red and black fruit but it also shows anise, wet earth, mocha and mint amidst a medium-body, stony texture and lean, tongue-gripping tannins. \"\\n    },\\n    {\\n      \"@DEBUG_PER_RESULT\": \"{\\\\\"TopicalityScore\\\\\":0.049702074,\\\\\"L2DScore\\\\\":1.373052,\\\\\"Q2DScore\\\\\":-7.279771,\\\\\"Q2DScoreNorm\\\\\":0.2704405,\\\\\"L2DScoreNorm\\\\\":0.7478261,\\\\\"TopicalityScoreNorm\\\\\":0.34741566,\\\\\"FinalScore\\\\\":0.28896964}\",\\n      \"DESCRIPTION\": \"Merlot seems to struggle a bit in Oregon, lacking the volume of other West Coast versions. Quite tart with simple berry flavors, this wine shows no real flesh, but goes directly from a sappy start into a tangy finish. \"\\n    },\\n    {\\n      \"@DEBUG_PER_RESULT\": \"{\\\\\"TopicalityScore\\\\\":0.030774653,\\\\\"L2DScore\\\\\":1.3589122,\\\\\"Q2DScore\\\\\":-6.880389,\\\\\"Q2DScoreNorm\\\\\":0.3299015,\\\\\"L2DScoreNorm\\\\\":0.6318849,\\\\\"TopicalityScoreNorm\\\\\":0.16148567,\\\\\"FinalScore\\\\\":0.2801674}\",\\n      \"DESCRIPTION\": \"Winemaker David “Merf” Merfeld has made a name for himself making top end Merlot at Northstar. Here, he looks to bring high quality, well-priced wines to the masses and more than succeeds. The aromas offer notes of spice, corn silk and peach. There\\'s a lovely sense of texture and richness to the palate that carries through the finish. It hits well above its price point. \"\\n    },\\n    {\\n      \"@DEBUG_PER_RESULT\": \"{\\\\\"TopicalityScore\\\\\":0.020020498,\\\\\"L2DScore\\\\\":1.3847175,\\\\\"Q2DScore\\\\\":-8.643404,\\\\\"Q2DScoreNorm\\\\\":0.06741926,\\\\\"L2DScoreNorm\\\\\":0.84347886,\\\\\"TopicalityScoreNorm\\\\\":0.055844247,\\\\\"FinalScore\\\\\":0.24004303}\",\\n      \"DESCRIPTION\": \"High-toned exotic spice, dark raspberry and barrel aromas are followed by focused, supremely rich fruit flavors that lead to a warm finish. Firm tannins provide support. For those who question if Merlot can be a serious wine, this is your answer. \"\\n    },\\n    {\\n      \"@DEBUG_PER_RESULT\": \"{\\\\\"TopicalityScore\\\\\":0.038667955,\\\\\"L2DScore\\\\\":1.3377024,\\\\\"Q2DScore\\\\\":-7.2933207,\\\\\"Q2DScoreNorm\\\\\":0.26842317,\\\\\"L2DScoreNorm\\\\\":0.4579715,\\\\\"TopicalityScoreNorm\\\\\":0.23902404,\\\\\"FinalScore\\\\\":0.21384513}\",\\n      \"DESCRIPTION\": \"Merlot and Cabernet Sauvignon work well together in this blend, which also contains Petite Sirah, Malbec and Zinfandel. Reduced and concentrated, there\\'s a moderate richness and rounded quality to the palate, dotted in red plum and cinnamon. \"\\n    },\\n    {\\n      \"@DEBUG_PER_RESULT\": \"{\\\\\"TopicalityScore\\\\\":0.0496515,\\\\\"L2DScore\\\\\":1.3592658,\\\\\"Q2DScore\\\\\":-8.50535,\\\\\"Q2DScoreNorm\\\\\":0.08797308,\\\\\"L2DScoreNorm\\\\\":0.63478404,\\\\\"TopicalityScoreNorm\\\\\":0.34691885,\\\\\"FinalScore\\\\\":0.194705}\",\\n      \"DESCRIPTION\": \"Merlot and Cabernet Sauvignon are happy together in this wine. Cabernet lends its crisp edge to the soft Merlot red fruitiness in a wine that is ready to drink. \"\\n    },\\n    {\\n      \"@DEBUG_PER_RESULT\": \"{\\\\\"TopicalityScore\\\\\":0.017851138,\\\\\"L2DScore\\\\\":1.3606797,\\\\\"Q2DScore\\\\\":-8.596601,\\\\\"Q2DScoreNorm\\\\\":0.07438748,\\\\\"L2DScoreNorm\\\\\":0.64637786,\\\\\"TopicalityScoreNorm\\\\\":0.03453395,\\\\\"FinalScore\\\\\":0.19206876}\",\\n      \"DESCRIPTION\": \"92–94. Barrel Sample. This 100% Merlot is elegant, fresh and fruity, with fine acidity and just enough structure. The wine has a fresh energy that makes it delicious, and a delicious juiciness at the end. \"\\n    }\\n  ]\\n}')]"
      ]
     },
     "execution_count": 51,
     "metadata": {},
     "output_type": "execute_result"
    }
   ],
   "source": [
    "test_css_sql = '''SELECT PARSE_JSON(SNOWFLAKE.CORTEX.SEARCH_PREVIEW(\n",
    "    'WINE_REVIEW_RETRIEVER', \n",
    "    '{\n",
    "      \"query\": \"whats a good merlot from california\"\n",
    "    }'\n",
    "))'''\n",
    "\n",
    "\n",
    "\n",
    "session.sql(test_css_sql).collect()"
   ]
  },
  {
   "cell_type": "code",
   "execution_count": 67,
   "metadata": {},
   "outputs": [],
   "source": [
    "root = Root(session)                         \n",
    "svc = root.databases[session.get_current_database()].schemas[session.get_current_schema()].cortex_search_services[\"WINE_REVIEW_RETRIEVER\"]"
   ]
  },
  {
   "cell_type": "code",
   "execution_count": 68,
   "metadata": {},
   "outputs": [
    {
     "data": {
      "text/plain": [
       "QueryResponse(results=[{'DESCRIPTION': 'This white has a concentrated richness of Meyer lemon and melon, the palate rounded and lush. From an estate site at some elevation, it is a rarity to find this variety in California; this is a good place to start. ', '@DEBUG_PER_RESULT': '{\"TopicalityScore\":0.08852696,\"L2DScore\":1.24225,\"Q2DScore\":-2.4208546,\"Q2DScoreNorm\":0.9570702,\"L2DScoreNorm\":1,\"TopicalityScoreNorm\":1,\"FinalScore\":0.60051966}'}, {'DESCRIPTION': 'This bottling is evidence of the strides winemaker David Baird has made in recent years to uplift this new brand. This white is what classic California Chardonnays should taste like when made in a balanced way. Aromas of butter, lemon peels, gardenia and chalk lead into toast, mango, pineapple and peach on the palate that hide behind an earthy, crushed, white-rock structure. ', '@DEBUG_PER_RESULT': '{\"TopicalityScore\":0.038456667,\"L2DScore\":1.2269329,\"Q2DScore\":-3.0867498,\"Q2DScoreNorm\":0.8712836,\"L2DScoreNorm\":0.8899371,\"TopicalityScoreNorm\":0.3462683,\"FinalScore\":0.54069185}'}, {'DESCRIPTION': \"Dry and nicely mature, this complex wine is always among California's best bubblies. It combines great balance, tiny bubbles and some very interesting flavors that make it as appealing as a well-cellared white Burgundy at its peak. Hints of toast, butter and almond fill the aroma, while lemon, crisp apple and baking spices fill the palate. It has lively acidity that's softened by a good sense of body. \", '@DEBUG_PER_RESULT': '{\"TopicalityScore\":0.07577102,\"L2DScore\":1.1254026,\"Q2DScore\":-2.0876236,\"Q2DScoreNorm\":1,\"L2DScoreNorm\":0.16037755,\"TopicalityScoreNorm\":0.8334549,\"FinalScore\":0.40068802}'}, {'DESCRIPTION': 'This is reliably one of the top white wines to emerge from all of Paso Robles, if not the entire Central Coast, each vintage. Clean lines of chalk, lime pith, gardenia and wet gravel show on the nose, while the sip offers honeysuckle, Asian pear and Key lime pith. A fresh acidity and rocky tension engages the entire palate. ', '@DEBUG_PER_RESULT': '{\"TopicalityScore\":0.011935459,\"L2DScore\":1.1945481,\"Q2DScore\":-5.483406,\"Q2DScoreNorm\":0.56252486,\"L2DScoreNorm\":0.65723217,\"FinalScore\":0.3699477}'}, {'DESCRIPTION': 'From the beautiful, historic site planted to some of the oldest vines of the variety in Northern California, this delicious white explodes in juicy green apple and an intensity of fresh-squeezed lemon. That succulence lingers atop a lengthy, salty texture wrapped in subtle, supportive oak. ', '@DEBUG_PER_RESULT': '{\"TopicalityScore\":0.024251949,\"L2DScore\":1.1866708,\"Q2DScore\":-5.5843835,\"Q2DScoreNorm\":0.5495161,\"L2DScoreNorm\":0.6006284,\"TopicalityScoreNorm\":0.16080752,\"FinalScore\":0.35100964}'}], request_id='ff39f253-411b-49b3-a4aa-861490517e97')"
      ]
     },
     "execution_count": 68,
     "metadata": {},
     "output_type": "execute_result"
    }
   ],
   "source": [
    "SEARCH_COLS = [\"DESCRIPTION\"]\n",
    "svc.search(query='whats a good california white', columns = SEARCH_COLS, limit = 5)"
   ]
  },
  {
   "cell_type": "code",
   "execution_count": 79,
   "metadata": {},
   "outputs": [],
   "source": [
    "class WINE_RAG_APP():\n",
    "\n",
    "    def __init__(self, llm_model, search_service, num_chunks):\n",
    "        self.llm_model = llm_model\n",
    "        self.search_service = search_service\n",
    "        self.num_chunks = num_chunks\n",
    "\n",
    "    @instrument\n",
    "    def retrieve(self, myquestion: str):\n",
    "\n",
    "        # if WEEK_NUM == \"ALL\":\n",
    "        response = self.search_service.search(myquestion, SEARCH_COLS, limit=self.num_chunks)\n",
    "        # else: \n",
    "            # filter_obj = {\"@eq\": {\"WEEK_NUM\": str(WEEK_NUM)} }\n",
    "            # response = self.search_service.search(myquestion, SEARCH_COLS, filter=filter_obj, limit=num_chunks)\n",
    "    \n",
    "        # st.sidebar.json(response.json())\n",
    "        # st.markdown(json.loads(response.json()).get('results'))\n",
    "        return [i.get(\"DESCRIPTION\") for i in json.loads(response.json()).get('results')]\n",
    "        # return [\"HOME_TEAM: \" +i.get(\"HOME_TEAM\")+ \"\\nAWAY_TEAM: \"+i.get(\"AWAY_TEAM\")+\"\\n\" +i.get(\"CHUNKED_TEXT\") for i in json.loads(response.json()).get('results')]\n",
    "\n",
    "    @instrument\n",
    "    def create_prompt (self, myquestion: str):\n",
    "        if rag == 1:\n",
    "            prompt_context = self.retrieve(myquestion)\n",
    "      \n",
    "            prompt = f\"\"\"\n",
    "               You are an expert Wine chat assistant. I'll call you SomoLLMier\n",
    "               Your job is to extract information from the CONTEXT provided\n",
    "               between <context> and </context> tags.\n",
    "               When answering the question contained between <question> and </question> tags\n",
    "               be concise and do not hallucinate. \n",
    "               If you don´t have the information just say so.\n",
    "               Only anwer the question if you can extract it from the CONTEXT provideed.\n",
    "               \n",
    "        \n",
    "               <context>          \n",
    "               {prompt_context}\n",
    "               </context>\n",
    "               <question>  \n",
    "               {myquestion}\n",
    "               </question>\n",
    "               Answer: \n",
    "               \"\"\"            \n",
    "        else:     \n",
    "            prompt = f\"\"\"[0]\n",
    "             'Question:  \n",
    "               {myquestion} \n",
    "               Answer: '\n",
    "               \"\"\"\n",
    "            # relative_paths = \"None\"\n",
    "            prompt_context = \"None\"\n",
    "                \n",
    "        return prompt, prompt_context\n",
    "    @instrument\n",
    "    def complete_prompt(self, myquestion: str, stream: bool):\n",
    "    \n",
    "        prompt, retrieved_context =self.create_prompt(myquestion)\n",
    "        \n",
    "        df_response = Complete(self.llm_model, prompt, stream=stream)\n",
    "        return df_response"
   ]
  },
  {
   "cell_type": "code",
   "execution_count": 83,
   "metadata": {},
   "outputs": [],
   "source": [
    "rag=1\n",
    "wine_rag = WINE_RAG_APP('mistral-7b', svc, 5)\n"
   ]
  },
  {
   "cell_type": "code",
   "execution_count": 88,
   "metadata": {},
   "outputs": [
    {
     "data": {
      "text/plain": [
       "' In the context provided, a delicate wine is described as having light body, subtle aromas, and a refined character. It is often easy to drink and may have a gentle, understated flavor profile.'"
      ]
     },
     "execution_count": 88,
     "metadata": {},
     "output_type": "execute_result"
    }
   ],
   "source": [
    "wine_rag.complete_prompt(\"when someone calls a wine delicate what does that mean\", stream=False)"
   ]
  }
 ],
 "metadata": {
  "kernelspec": {
   "display_name": "snow_tru_py311",
   "language": "python",
   "name": "python3"
  },
  "language_info": {
   "codemirror_mode": {
    "name": "ipython",
    "version": 3
   },
   "file_extension": ".py",
   "mimetype": "text/x-python",
   "name": "python",
   "nbconvert_exporter": "python",
   "pygments_lexer": "ipython3",
   "version": "3.11.9"
  }
 },
 "nbformat": 4,
 "nbformat_minor": 2
}
